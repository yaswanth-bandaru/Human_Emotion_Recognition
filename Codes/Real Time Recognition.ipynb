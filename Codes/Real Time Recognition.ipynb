{
 "cells": [
  {
   "cell_type": "code",
   "execution_count": 1,
   "metadata": {},
   "outputs": [],
   "source": [
    "import os\n",
    "import cv2, torch\n",
    "import numpy as np\n",
    "import torch.nn as nn\n",
    "from torch.utils.data import dataset\n",
    "from torchvision import transforms\n",
    "from torch.autograd import Variable\n",
    "\n",
    "os.chdir('Y:\\\\Masters_Content\\\\Intro to AI\\\\Project _1\\\\FER_PLUS\\\\Codes')"
   ]
  },
  {
   "cell_type": "code",
   "execution_count": 2,
   "metadata": {},
   "outputs": [],
   "source": [
    "class_dict = {\n",
    "    0: 'neutral',\n",
    "    1: 'happiness',\n",
    "    2: 'surprise',\n",
    "    3: 'sadness',\n",
    "    4: 'anger'\n",
    "}\n",
    "\n",
    "#disgust,fear,contempt\n"
   ]
  },
  {
   "cell_type": "code",
   "execution_count": 3,
   "metadata": {},
   "outputs": [],
   "source": [
    "class FERPlusInferenceDataset(dataset.Dataset):\n",
    "    def __init__(self, fer_data_dir, transforms=None):\n",
    "        \"\"\"\n",
    "        Inferencer dataset\n",
    "        :param fer_data_dir: Path to images to inference (FER2013Test folder or own dataset!)\n",
    "        :param transforms: test transforms\n",
    "        \"\"\"\n",
    "        self.img_dir = fer_data_dir\n",
    "        self.transforms = transforms\n",
    "        self.image_file_names = sorted(\n",
    "            [x for x in os.listdir(self.img_dir) if x.endswith('.jpg')])\n",
    "\n",
    "    def __getitem__(self, idx):\n",
    "        img_file_name = self.image_file_names[idx]\n",
    "        img_file = os.path.join(self.img_dir, img_file_name)\n",
    "        img = Image.open(img_file).convert('LA').convert('RGB')\n",
    "\n",
    "        if self.transforms is not None:\n",
    "            img = self.transforms(img)\n",
    "\n",
    "        return img, img_file\n",
    "\n",
    "    def __len__(self):\n",
    "        return len(self.image_file_names)"
   ]
  },
  {
   "cell_type": "code",
   "execution_count": 4,
   "metadata": {},
   "outputs": [],
   "source": [
    "# importing needed modules-----------------------\n",
    "\n",
    "\n",
    "# defining important funtions---------------------\n",
    "\n",
    "face_cascade = cv2.CascadeClassifier('haarcascade_frontalface_default.xml')\n",
    "\n",
    "# function to turn photos to tensor\n",
    "loader = transforms.Compose([\n",
    "    transforms.ToPILImage(),\n",
    "    transforms.Resize((224, 224)),\n",
    "    transforms.ToTensor(),\n",
    "    transforms.Normalize([0.485, 0.456, 0.406], [0.229, 0.224, 0.225])\n",
    "])\n",
    "\n",
    "# the model for predicting\n",
    "model = torch.load('model_86.pth',map_location=torch.device('cpu'))\n",
    "\n",
    "\n",
    "if __name__ == \"__main__\":\n",
    "    vid = cv2.VideoCapture(0)\n",
    "\n",
    "    while vid.isOpened():\n",
    "        _, frame = vid.read()\n",
    "\n",
    "        # takes in a gray coloured filter of the frame\n",
    "        gray = cv2.cvtColor(frame, cv2.COLOR_BGR2GRAY)\n",
    "\n",
    "        # initializing the haarcascade face detector\n",
    "        faces = face_cascade.detectMultiScale(frame)\n",
    "        for (x,y,w,h) in faces:\n",
    "            cv2.rectangle(frame, (x,y), (x+w,y+h), (0,255,0), 2)\n",
    "\n",
    "            # takes the region of interest of the face only in gray\n",
    "            roi_gray = gray[y:y+h, x:x+h]\n",
    "            roi_color = frame[y:y+h, x:x+h]\n",
    "\n",
    "            # predict the mood\n",
    "            image = loader(roi_color).float()\n",
    "            image = Variable(image, requires_grad=True)\n",
    "            image = image.unsqueeze(0)\n",
    "            outputs = model(image)\n",
    "            _, pred = torch.max(outputs, 1)\n",
    "\n",
    "            cv2.putText(frame, class_dict[pred.numpy()[0]], (x, y-10), cv2.FONT_HERSHEY_SIMPLEX, 1, (0,255,0))\n",
    "\n",
    "\n",
    "        cv2.imshow('video', frame)\n",
    "        if cv2.waitKey(1) & 0xFF == ord('q'):\n",
    "            break\n",
    "\n",
    "    vid.release()\n",
    "    cv2.destroyAllWindows()"
   ]
  },
  {
   "cell_type": "code",
   "execution_count": null,
   "metadata": {},
   "outputs": [],
   "source": []
  }
 ],
 "metadata": {
  "kernelspec": {
   "display_name": "Python 3",
   "language": "python",
   "name": "python3"
  },
  "language_info": {
   "codemirror_mode": {
    "name": "ipython",
    "version": 3
   },
   "file_extension": ".py",
   "mimetype": "text/x-python",
   "name": "python",
   "nbconvert_exporter": "python",
   "pygments_lexer": "ipython3",
   "version": "3.8.5"
  }
 },
 "nbformat": 4,
 "nbformat_minor": 4
}
